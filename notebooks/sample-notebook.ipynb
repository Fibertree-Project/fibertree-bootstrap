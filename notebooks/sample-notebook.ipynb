{
  "nbformat": 4,
  "nbformat_minor": 0,
  "metadata": {
    "colab": {
      "provenance": []
    },
    "kernelspec": {
      "name": "python3",
      "display_name": "Python 3"
    },
    "language_info": {
      "name": "python"
    }
  },
  "cells": [
    {
      "cell_type": "markdown",
      "source": [
        "# Boilerplate code\n",
        "\n",
        "Run the boilerplate bootstrapping code"
      ],
      "metadata": {
        "id": "oiUrFQyrC4VE"
      }
    },
    {
      "cell_type": "code",
      "execution_count": null,
      "metadata": {
        "id": "VVfU2LFE_BDF"
      },
      "outputs": [],
      "source": [
        "# Begin - startup boilerplate code\n",
        "\n",
        "import pkgutil\n",
        "\n",
        "if 'fibertree_bootstrap' not in [pkg.name for pkg in pkgutil.iter_modules()]:\n",
        "  !pip  install git+https://github.com/Fibertree-project/fibertree-bootstrap --quiet\n",
        "\n",
        "# End - startup boilerplate code\n",
        "\n",
        "from fibertree_bootstrap import *\n",
        "fibertree_bootstrap(style=\"tree\", animation=\"movie\")"
      ]
    },
    {
      "cell_type": "markdown",
      "source": [
        "## Create a user configured random tensor\n",
        "\n",
        "One can also create a random tensor using user specified controls. This is done in two steps a configuration step in the cell below and an instantiation step in the following cell."
      ],
      "metadata": {
        "id": "-mLHzPbe_0SL"
      }
    },
    {
      "cell_type": "code",
      "source": [
        "#\n",
        "# Instantiate the tensor factory\n",
        "#\n",
        "tm = TensorMaker()\n",
        "\n",
        "#\n",
        "# Define the templates for two tensors\n",
        "#\n",
        "tm.addTensor(name=\"A\",                     # required\n",
        "             rank_ids=[\"M\", \"K\"],          # required\n",
        "             shape=[4,6],                  # required\n",
        "             density=0.4,                  # optional, default=0.2\n",
        "             interval=9,                   # optional, default=5\n",
        "             color=\"blue\",                 # optional, default=\"red\"\n",
        "             seed=100)                     # optional, default=10\n",
        "\n",
        "tm.addTensor(name=\"B\",                     # required\n",
        "             rank_ids=[\"K\", \"N\"],          # required\n",
        "             shape=[6,4],                  # required\n",
        "             density=0.4,                  # optional, default=0.2\n",
        "             interval=5,                   # optional, default=5\n",
        "             color=\"green\",                # optional, default=\"red\"\n",
        "             seed=200)                     # optional, default=10\n",
        "\n",
        "#\n",
        "# Display the controls to configure the tensors\n",
        "#\n",
        "tm.displayControls()"
      ],
      "metadata": {
        "id": "a02Uefkn_0u7"
      },
      "execution_count": null,
      "outputs": []
    },
    {
      "cell_type": "markdown",
      "source": [
        "## Create and print out the **tensors**"
      ],
      "metadata": {
        "id": "3xw7mx9PAXpn"
      }
    },
    {
      "cell_type": "code",
      "source": [
        "#\n",
        "# Instantiate the named tensors defined above\n",
        "#\n",
        "a = tm.makeTensor(\"A\")\n",
        "b = tm.makeTensor(\"B\")\n",
        "\n",
        "#\n",
        "# Display the tensors\n",
        "#\n",
        "displayTensor(a)\n",
        "displayTensor(b)"
      ],
      "metadata": {
        "id": "au9kvgNg_2A9"
      },
      "execution_count": null,
      "outputs": []
    },
    {
      "cell_type": "markdown",
      "source": [
        "## Do a matrix multiply"
      ],
      "metadata": {
        "id": "_rcQDYChBGXT"
      }
    },
    {
      "cell_type": "code",
      "source": [
        "# Matrix multiply\n",
        "\n",
        "z = Tensor(rank_ids=[\"M\", \"N\"])\n",
        "\n",
        "a_m = a.getRoot()\n",
        "b_n = b.swapRanks().getRoot()\n",
        "z_m = z.getRoot()\n",
        "\n",
        "canvas = createCanvas(a, b, z)\n",
        "\n",
        "for m, (z_n, a_k) in z_m << a_m:\n",
        "  for n, (z_ref, b_k) in z_n << b_n:\n",
        "    for k, (a_val, b_val) in a_k & b_k:\n",
        "        z_ref += a_val * b_val\n",
        "        canvas.addFrame((m,k), (k, n), (m, n))\n",
        "\n",
        "\n",
        "displayCanvas(canvas)"
      ],
      "metadata": {
        "id": "kfUohLbVAgxK"
      },
      "execution_count": null,
      "outputs": []
    },
    {
      "cell_type": "code",
      "source": [],
      "metadata": {
        "id": "GKrLLyPpCGjg"
      },
      "execution_count": null,
      "outputs": []
    }
  ]
}